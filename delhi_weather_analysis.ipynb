{
 "cells": [
  {
   "cell_type": "markdown",
   "metadata": {},
   "source": [
    "## Delhi Daily Weather Forecast\n",
    "In this notebook we analyze a time series DataFrame for Delhi daily weather forecast from 2013 to 2017. We specifically deal with:\n",
    "- Getting the data\n",
    "- Time based indexing\n",
    "- Visualizing time series data\n",
    "- Seasonality\n",
    "- Frequencies\n",
    "- Resampling\n",
    "- Rolling windows\n",
    "- Correlation between humidity and temperature\n",
    "\n",
    "This analysis is adapted from [DataQuest Tutorial](https://www.dataquest.io/blog/tutorial-time-series-analysis-with-pandas/).\n",
    "\n",
    "\n",
    "### 1. Getting the data\n",
    "This time series data set is obtained from [Kaggle Data Repository](https://www.kaggle.com/sumanthvrao/daily-climate-time-series-data?select=DailyDelhiClimateTrain.csv 'Title') with the following parameters:\n",
    "* Mean temperature averaged out from multiple 3 hour intervals in a day.\n",
    "* Humidity value for the day (units are grams of water vapor per cubic meter volume of air).\n",
    "* Wind speed (measured in kmph).\n",
    "* Pressure reading of weather (measured in atm).\n",
    "\n",
    "The following packages were used:"
   ]
  },
  {
   "cell_type": "code",
   "execution_count": 1,
   "metadata": {},
   "outputs": [],
   "source": [
    "import numpy as np\n",
    "import pandas as pd\n",
    "import seaborn as sns\n",
    "import matplotlib.dates as mdates\n",
    "import matplotlib.pyplot as plt\n",
    "from pandas import *\n",
    "from sklearn.linear_model import LinearRegression as lr"
   ]
  },
  {
   "cell_type": "code",
   "execution_count": 2,
   "metadata": {},
   "outputs": [
    {
     "data": {
      "text/plain": [
       "(1462, 5)"
      ]
     },
     "execution_count": 2,
     "metadata": {},
     "output_type": "execute_result"
    }
   ],
   "source": [
    "# Reading a CSV data file\n",
    "delhi_daily_weather = pd.read_csv('DailyDelhiClimate.csv')\n",
    "delhi_daily_weather.shape"
   ]
  },
  {
   "cell_type": "code",
   "execution_count": 3,
   "metadata": {},
   "outputs": [
    {
     "data": {
      "text/html": [
       "<div>\n",
       "<style scoped>\n",
       "    .dataframe tbody tr th:only-of-type {\n",
       "        vertical-align: middle;\n",
       "    }\n",
       "\n",
       "    .dataframe tbody tr th {\n",
       "        vertical-align: top;\n",
       "    }\n",
       "\n",
       "    .dataframe thead th {\n",
       "        text-align: right;\n",
       "    }\n",
       "</style>\n",
       "<table border=\"1\" class=\"dataframe\">\n",
       "  <thead>\n",
       "    <tr style=\"text-align: right;\">\n",
       "      <th></th>\n",
       "      <th>date</th>\n",
       "      <th>meantemp</th>\n",
       "      <th>humidity</th>\n",
       "      <th>wind_speed</th>\n",
       "      <th>meanpressure</th>\n",
       "    </tr>\n",
       "  </thead>\n",
       "  <tbody>\n",
       "    <tr>\n",
       "      <th>0</th>\n",
       "      <td>2013-01-01</td>\n",
       "      <td>10.000000</td>\n",
       "      <td>84.5</td>\n",
       "      <td>0.000000</td>\n",
       "      <td>1015.666667</td>\n",
       "    </tr>\n",
       "    <tr>\n",
       "      <th>1</th>\n",
       "      <td>2013-01-02</td>\n",
       "      <td>7.400000</td>\n",
       "      <td>92.0</td>\n",
       "      <td>2.980000</td>\n",
       "      <td>1017.800000</td>\n",
       "    </tr>\n",
       "    <tr>\n",
       "      <th>2</th>\n",
       "      <td>2013-01-03</td>\n",
       "      <td>7.166667</td>\n",
       "      <td>87.0</td>\n",
       "      <td>4.633333</td>\n",
       "      <td>1018.666667</td>\n",
       "    </tr>\n",
       "  </tbody>\n",
       "</table>\n",
       "</div>"
      ],
      "text/plain": [
       "         date   meantemp  humidity  wind_speed  meanpressure\n",
       "0  2013-01-01  10.000000      84.5    0.000000   1015.666667\n",
       "1  2013-01-02   7.400000      92.0    2.980000   1017.800000\n",
       "2  2013-01-03   7.166667      87.0    4.633333   1018.666667"
      ]
     },
     "execution_count": 3,
     "metadata": {},
     "output_type": "execute_result"
    }
   ],
   "source": [
    "delhi_daily_weather.head(3)"
   ]
  },
  {
   "cell_type": "code",
   "execution_count": 4,
   "metadata": {},
   "outputs": [
    {
     "data": {
      "text/html": [
       "<div>\n",
       "<style scoped>\n",
       "    .dataframe tbody tr th:only-of-type {\n",
       "        vertical-align: middle;\n",
       "    }\n",
       "\n",
       "    .dataframe tbody tr th {\n",
       "        vertical-align: top;\n",
       "    }\n",
       "\n",
       "    .dataframe thead th {\n",
       "        text-align: right;\n",
       "    }\n",
       "</style>\n",
       "<table border=\"1\" class=\"dataframe\">\n",
       "  <thead>\n",
       "    <tr style=\"text-align: right;\">\n",
       "      <th></th>\n",
       "      <th>date</th>\n",
       "      <th>meantemp</th>\n",
       "      <th>humidity</th>\n",
       "      <th>wind_speed</th>\n",
       "      <th>meanpressure</th>\n",
       "    </tr>\n",
       "  </thead>\n",
       "  <tbody>\n",
       "    <tr>\n",
       "      <th>1459</th>\n",
       "      <td>2016-12-30</td>\n",
       "      <td>14.095238</td>\n",
       "      <td>89.666667</td>\n",
       "      <td>6.266667</td>\n",
       "      <td>1017.904762</td>\n",
       "    </tr>\n",
       "    <tr>\n",
       "      <th>1460</th>\n",
       "      <td>2016-12-31</td>\n",
       "      <td>15.052632</td>\n",
       "      <td>87.000000</td>\n",
       "      <td>7.325000</td>\n",
       "      <td>1016.100000</td>\n",
       "    </tr>\n",
       "    <tr>\n",
       "      <th>1461</th>\n",
       "      <td>2017-01-01</td>\n",
       "      <td>10.000000</td>\n",
       "      <td>100.000000</td>\n",
       "      <td>0.000000</td>\n",
       "      <td>1016.000000</td>\n",
       "    </tr>\n",
       "  </tbody>\n",
       "</table>\n",
       "</div>"
      ],
      "text/plain": [
       "            date   meantemp    humidity  wind_speed  meanpressure\n",
       "1459  2016-12-30  14.095238   89.666667    6.266667   1017.904762\n",
       "1460  2016-12-31  15.052632   87.000000    7.325000   1016.100000\n",
       "1461  2017-01-01  10.000000  100.000000    0.000000   1016.000000"
      ]
     },
     "execution_count": 4,
     "metadata": {},
     "output_type": "execute_result"
    }
   ],
   "source": [
    "delhi_daily_weather.tail(3)"
   ]
  },
  {
   "cell_type": "code",
   "execution_count": 5,
   "metadata": {},
   "outputs": [
    {
     "data": {
      "text/plain": [
       "date             object\n",
       "meantemp        float64\n",
       "humidity        float64\n",
       "wind_speed      float64\n",
       "meanpressure    float64\n",
       "dtype: object"
      ]
     },
     "execution_count": 5,
     "metadata": {},
     "output_type": "execute_result"
    }
   ],
   "source": [
    "delhi_daily_weather.dtypes"
   ]
  },
  {
   "cell_type": "markdown",
   "metadata": {},
   "source": [
    "We see something is wrong with the data type of the `date` column, we convert it using `to_datetime()` function."
   ]
  },
  {
   "cell_type": "code",
   "execution_count": 6,
   "metadata": {},
   "outputs": [
    {
     "data": {
      "text/plain": [
       "date            datetime64[ns]\n",
       "meantemp               float64\n",
       "humidity               float64\n",
       "wind_speed             float64\n",
       "meanpressure           float64\n",
       "dtype: object"
      ]
     },
     "execution_count": 6,
     "metadata": {},
     "output_type": "execute_result"
    }
   ],
   "source": [
    "delhi_daily_weather['date'] = pd.to_datetime(delhi_daily_weather['date'])\n",
    "delhi_daily_weather.dtypes"
   ]
  },
  {
   "cell_type": "markdown",
   "metadata": {},
   "source": [
    "Now everything looks great. Next, we set the `index` to be the `date` column."
   ]
  },
  {
   "cell_type": "code",
   "execution_count": 7,
   "metadata": {},
   "outputs": [
    {
     "data": {
      "text/html": [
       "<div>\n",
       "<style scoped>\n",
       "    .dataframe tbody tr th:only-of-type {\n",
       "        vertical-align: middle;\n",
       "    }\n",
       "\n",
       "    .dataframe tbody tr th {\n",
       "        vertical-align: top;\n",
       "    }\n",
       "\n",
       "    .dataframe thead th {\n",
       "        text-align: right;\n",
       "    }\n",
       "</style>\n",
       "<table border=\"1\" class=\"dataframe\">\n",
       "  <thead>\n",
       "    <tr style=\"text-align: right;\">\n",
       "      <th></th>\n",
       "      <th>meantemp</th>\n",
       "      <th>humidity</th>\n",
       "      <th>wind_speed</th>\n",
       "      <th>meanpressure</th>\n",
       "    </tr>\n",
       "    <tr>\n",
       "      <th>date</th>\n",
       "      <th></th>\n",
       "      <th></th>\n",
       "      <th></th>\n",
       "      <th></th>\n",
       "    </tr>\n",
       "  </thead>\n",
       "  <tbody>\n",
       "    <tr>\n",
       "      <th>2016-12-30</th>\n",
       "      <td>14.095238</td>\n",
       "      <td>89.666667</td>\n",
       "      <td>6.266667</td>\n",
       "      <td>1017.904762</td>\n",
       "    </tr>\n",
       "    <tr>\n",
       "      <th>2016-12-31</th>\n",
       "      <td>15.052632</td>\n",
       "      <td>87.000000</td>\n",
       "      <td>7.325000</td>\n",
       "      <td>1016.100000</td>\n",
       "    </tr>\n",
       "    <tr>\n",
       "      <th>2017-01-01</th>\n",
       "      <td>10.000000</td>\n",
       "      <td>100.000000</td>\n",
       "      <td>0.000000</td>\n",
       "      <td>1016.000000</td>\n",
       "    </tr>\n",
       "  </tbody>\n",
       "</table>\n",
       "</div>"
      ],
      "text/plain": [
       "             meantemp    humidity  wind_speed  meanpressure\n",
       "date                                                       \n",
       "2016-12-30  14.095238   89.666667    6.266667   1017.904762\n",
       "2016-12-31  15.052632   87.000000    7.325000   1016.100000\n",
       "2017-01-01  10.000000  100.000000    0.000000   1016.000000"
      ]
     },
     "execution_count": 7,
     "metadata": {},
     "output_type": "execute_result"
    }
   ],
   "source": [
    "delhi_daily_weather = delhi_daily_weather.set_index('date')\n",
    "delhi_daily_weather.tail(3)"
   ]
  },
  {
   "cell_type": "code",
   "execution_count": 8,
   "metadata": {},
   "outputs": [
    {
     "data": {
      "text/plain": [
       "DatetimeIndex(['2013-01-01', '2013-01-02', '2013-01-03', '2013-01-04',\n",
       "               '2013-01-05', '2013-01-06', '2013-01-07', '2013-01-08',\n",
       "               '2013-01-09', '2013-01-10',\n",
       "               ...\n",
       "               '2016-12-23', '2016-12-24', '2016-12-25', '2016-12-26',\n",
       "               '2016-12-27', '2016-12-28', '2016-12-29', '2016-12-30',\n",
       "               '2016-12-31', '2017-01-01'],\n",
       "              dtype='datetime64[ns]', name='date', length=1462, freq=None)"
      ]
     },
     "execution_count": 8,
     "metadata": {},
     "output_type": "execute_result"
    }
   ],
   "source": [
    "delhi_daily_weather.index"
   ]
  },
  {
   "cell_type": "code",
   "execution_count": 9,
   "metadata": {},
   "outputs": [
    {
     "data": {
      "text/html": [
       "<div>\n",
       "<style scoped>\n",
       "    .dataframe tbody tr th:only-of-type {\n",
       "        vertical-align: middle;\n",
       "    }\n",
       "\n",
       "    .dataframe tbody tr th {\n",
       "        vertical-align: top;\n",
       "    }\n",
       "\n",
       "    .dataframe thead th {\n",
       "        text-align: right;\n",
       "    }\n",
       "</style>\n",
       "<table border=\"1\" class=\"dataframe\">\n",
       "  <thead>\n",
       "    <tr style=\"text-align: right;\">\n",
       "      <th></th>\n",
       "      <th>meantemp</th>\n",
       "      <th>humidity</th>\n",
       "      <th>wind_speed</th>\n",
       "      <th>meanpressure</th>\n",
       "      <th>Year</th>\n",
       "      <th>Month</th>\n",
       "      <th>Weekday Name</th>\n",
       "    </tr>\n",
       "    <tr>\n",
       "      <th>date</th>\n",
       "      <th></th>\n",
       "      <th></th>\n",
       "      <th></th>\n",
       "      <th></th>\n",
       "      <th></th>\n",
       "      <th></th>\n",
       "      <th></th>\n",
       "    </tr>\n",
       "  </thead>\n",
       "  <tbody>\n",
       "    <tr>\n",
       "      <th>2014-06-15</th>\n",
       "      <td>33.875000</td>\n",
       "      <td>52.000000</td>\n",
       "      <td>8.100000</td>\n",
       "      <td>997.125000</td>\n",
       "      <td>2014</td>\n",
       "      <td>6</td>\n",
       "      <td>Sunday</td>\n",
       "    </tr>\n",
       "    <tr>\n",
       "      <th>2016-05-11</th>\n",
       "      <td>32.500000</td>\n",
       "      <td>49.937500</td>\n",
       "      <td>7.775000</td>\n",
       "      <td>1006.062500</td>\n",
       "      <td>2016</td>\n",
       "      <td>5</td>\n",
       "      <td>Wednesday</td>\n",
       "    </tr>\n",
       "    <tr>\n",
       "      <th>2014-04-05</th>\n",
       "      <td>27.375000</td>\n",
       "      <td>44.000000</td>\n",
       "      <td>9.262500</td>\n",
       "      <td>1008.875000</td>\n",
       "      <td>2014</td>\n",
       "      <td>4</td>\n",
       "      <td>Saturday</td>\n",
       "    </tr>\n",
       "    <tr>\n",
       "      <th>2013-10-07</th>\n",
       "      <td>29.714286</td>\n",
       "      <td>66.571429</td>\n",
       "      <td>1.585714</td>\n",
       "      <td>1008.857143</td>\n",
       "      <td>2013</td>\n",
       "      <td>10</td>\n",
       "      <td>Monday</td>\n",
       "    </tr>\n",
       "    <tr>\n",
       "      <th>2014-10-20</th>\n",
       "      <td>24.750000</td>\n",
       "      <td>55.625000</td>\n",
       "      <td>4.400000</td>\n",
       "      <td>1013.125000</td>\n",
       "      <td>2014</td>\n",
       "      <td>10</td>\n",
       "      <td>Monday</td>\n",
       "    </tr>\n",
       "  </tbody>\n",
       "</table>\n",
       "</div>"
      ],
      "text/plain": [
       "             meantemp   humidity  wind_speed  meanpressure  Year  Month  \\\n",
       "date                                                                      \n",
       "2014-06-15  33.875000  52.000000    8.100000    997.125000  2014      6   \n",
       "2016-05-11  32.500000  49.937500    7.775000   1006.062500  2016      5   \n",
       "2014-04-05  27.375000  44.000000    9.262500   1008.875000  2014      4   \n",
       "2013-10-07  29.714286  66.571429    1.585714   1008.857143  2013     10   \n",
       "2014-10-20  24.750000  55.625000    4.400000   1013.125000  2014     10   \n",
       "\n",
       "           Weekday Name  \n",
       "date                     \n",
       "2014-06-15       Sunday  \n",
       "2016-05-11    Wednesday  \n",
       "2014-04-05     Saturday  \n",
       "2013-10-07       Monday  \n",
       "2014-10-20       Monday  "
      ]
     },
     "execution_count": 9,
     "metadata": {},
     "output_type": "execute_result"
    }
   ],
   "source": [
    "# Add columns with year, month, and weekday name\n",
    "delhi_daily_weather['Year'] = delhi_daily_weather.index.year\n",
    "delhi_daily_weather['Month'] = delhi_daily_weather.index.month\n",
    "delhi_daily_weather['Weekday Name'] = delhi_daily_weather.index.day_name()\n",
    "# Display a random sampling of 5 rows\n",
    "delhi_daily_weather.sample(5, random_state=0)"
   ]
  },
  {
   "cell_type": "markdown",
   "metadata": {},
   "source": [
    "### 2.  Time based indexing\n",
    "\n",
    "This allows us to view our data on a certain interval of time depending on our needs."
   ]
  },
  {
   "cell_type": "code",
   "execution_count": 10,
   "metadata": {},
   "outputs": [
    {
     "data": {
      "text/plain": [
       "meantemp             11\n",
       "humidity          80.75\n",
       "wind_speed       4.8625\n",
       "meanpressure    1019.12\n",
       "Year               2015\n",
       "Month                 1\n",
       "Weekday Name     Sunday\n",
       "Name: 2015-01-11 00:00:00, dtype: object"
      ]
     },
     "execution_count": 10,
     "metadata": {},
     "output_type": "execute_result"
    }
   ],
   "source": [
    "# Viewing one row for the selected day\n",
    "delhi_daily_weather.loc['2015-01-11']"
   ]
  },
  {
   "cell_type": "code",
   "execution_count": 11,
   "metadata": {
    "scrolled": true
   },
   "outputs": [
    {
     "data": {
      "text/html": [
       "<div>\n",
       "<style scoped>\n",
       "    .dataframe tbody tr th:only-of-type {\n",
       "        vertical-align: middle;\n",
       "    }\n",
       "\n",
       "    .dataframe tbody tr th {\n",
       "        vertical-align: top;\n",
       "    }\n",
       "\n",
       "    .dataframe thead th {\n",
       "        text-align: right;\n",
       "    }\n",
       "</style>\n",
       "<table border=\"1\" class=\"dataframe\">\n",
       "  <thead>\n",
       "    <tr style=\"text-align: right;\">\n",
       "      <th></th>\n",
       "      <th>meantemp</th>\n",
       "      <th>humidity</th>\n",
       "      <th>wind_speed</th>\n",
       "      <th>meanpressure</th>\n",
       "      <th>Year</th>\n",
       "      <th>Month</th>\n",
       "      <th>Weekday Name</th>\n",
       "    </tr>\n",
       "    <tr>\n",
       "      <th>date</th>\n",
       "      <th></th>\n",
       "      <th></th>\n",
       "      <th></th>\n",
       "      <th></th>\n",
       "      <th></th>\n",
       "      <th></th>\n",
       "      <th></th>\n",
       "    </tr>\n",
       "  </thead>\n",
       "  <tbody>\n",
       "    <tr>\n",
       "      <th>2014-01-20</th>\n",
       "      <td>14.625000</td>\n",
       "      <td>83.500000</td>\n",
       "      <td>4.412500</td>\n",
       "      <td>1021.375000</td>\n",
       "      <td>2014</td>\n",
       "      <td>1</td>\n",
       "      <td>Monday</td>\n",
       "    </tr>\n",
       "    <tr>\n",
       "      <th>2014-01-21</th>\n",
       "      <td>13.571429</td>\n",
       "      <td>96.857143</td>\n",
       "      <td>7.171429</td>\n",
       "      <td>1020.571429</td>\n",
       "      <td>2014</td>\n",
       "      <td>1</td>\n",
       "      <td>Tuesday</td>\n",
       "    </tr>\n",
       "    <tr>\n",
       "      <th>2014-01-22</th>\n",
       "      <td>15.250000</td>\n",
       "      <td>96.125000</td>\n",
       "      <td>6.712500</td>\n",
       "      <td>1019.875000</td>\n",
       "      <td>2014</td>\n",
       "      <td>1</td>\n",
       "      <td>Wednesday</td>\n",
       "    </tr>\n",
       "  </tbody>\n",
       "</table>\n",
       "</div>"
      ],
      "text/plain": [
       "             meantemp   humidity  wind_speed  meanpressure  Year  Month  \\\n",
       "date                                                                      \n",
       "2014-01-20  14.625000  83.500000    4.412500   1021.375000  2014      1   \n",
       "2014-01-21  13.571429  96.857143    7.171429   1020.571429  2014      1   \n",
       "2014-01-22  15.250000  96.125000    6.712500   1019.875000  2014      1   \n",
       "\n",
       "           Weekday Name  \n",
       "date                     \n",
       "2014-01-20       Monday  \n",
       "2014-01-21      Tuesday  \n",
       "2014-01-22    Wednesday  "
      ]
     },
     "execution_count": 11,
     "metadata": {},
     "output_type": "execute_result"
    }
   ],
   "source": [
    "# Slice of days\n",
    "delhi_daily_weather.loc['2014-01-20':'2014-01-22']"
   ]
  },
  {
   "cell_type": "code",
   "execution_count": 12,
   "metadata": {},
   "outputs": [
    {
     "data": {
      "text/html": [
       "<div>\n",
       "<style scoped>\n",
       "    .dataframe tbody tr th:only-of-type {\n",
       "        vertical-align: middle;\n",
       "    }\n",
       "\n",
       "    .dataframe tbody tr th {\n",
       "        vertical-align: top;\n",
       "    }\n",
       "\n",
       "    .dataframe thead th {\n",
       "        text-align: right;\n",
       "    }\n",
       "</style>\n",
       "<table border=\"1\" class=\"dataframe\">\n",
       "  <thead>\n",
       "    <tr style=\"text-align: right;\">\n",
       "      <th></th>\n",
       "      <th>meantemp</th>\n",
       "      <th>humidity</th>\n",
       "      <th>wind_speed</th>\n",
       "      <th>meanpressure</th>\n",
       "      <th>Year</th>\n",
       "      <th>Month</th>\n",
       "      <th>Weekday Name</th>\n",
       "    </tr>\n",
       "    <tr>\n",
       "      <th>date</th>\n",
       "      <th></th>\n",
       "      <th></th>\n",
       "      <th></th>\n",
       "      <th></th>\n",
       "      <th></th>\n",
       "      <th></th>\n",
       "      <th></th>\n",
       "    </tr>\n",
       "  </thead>\n",
       "  <tbody>\n",
       "    <tr>\n",
       "      <th>2016-03-01</th>\n",
       "      <td>24.916667</td>\n",
       "      <td>57.416667</td>\n",
       "      <td>1.700000</td>\n",
       "      <td>1015.000000</td>\n",
       "      <td>2016</td>\n",
       "      <td>3</td>\n",
       "      <td>Tuesday</td>\n",
       "    </tr>\n",
       "    <tr>\n",
       "      <th>2016-03-02</th>\n",
       "      <td>24.933333</td>\n",
       "      <td>57.066667</td>\n",
       "      <td>1.733333</td>\n",
       "      <td>1015.400000</td>\n",
       "      <td>2016</td>\n",
       "      <td>3</td>\n",
       "      <td>Wednesday</td>\n",
       "    </tr>\n",
       "    <tr>\n",
       "      <th>2016-03-03</th>\n",
       "      <td>26.000000</td>\n",
       "      <td>55.615385</td>\n",
       "      <td>4.292308</td>\n",
       "      <td>1014.615385</td>\n",
       "      <td>2016</td>\n",
       "      <td>3</td>\n",
       "      <td>Thursday</td>\n",
       "    </tr>\n",
       "    <tr>\n",
       "      <th>2016-03-04</th>\n",
       "      <td>27.312500</td>\n",
       "      <td>44.250000</td>\n",
       "      <td>6.143750</td>\n",
       "      <td>1012.687500</td>\n",
       "      <td>2016</td>\n",
       "      <td>3</td>\n",
       "      <td>Friday</td>\n",
       "    </tr>\n",
       "    <tr>\n",
       "      <th>2016-03-05</th>\n",
       "      <td>23.933333</td>\n",
       "      <td>57.133333</td>\n",
       "      <td>11.000000</td>\n",
       "      <td>1012.666667</td>\n",
       "      <td>2016</td>\n",
       "      <td>3</td>\n",
       "      <td>Saturday</td>\n",
       "    </tr>\n",
       "    <tr>\n",
       "      <th>2016-03-06</th>\n",
       "      <td>22.812500</td>\n",
       "      <td>66.562500</td>\n",
       "      <td>5.218750</td>\n",
       "      <td>1013.062500</td>\n",
       "      <td>2016</td>\n",
       "      <td>3</td>\n",
       "      <td>Sunday</td>\n",
       "    </tr>\n",
       "    <tr>\n",
       "      <th>2016-03-07</th>\n",
       "      <td>23.714286</td>\n",
       "      <td>64.142857</td>\n",
       "      <td>5.171429</td>\n",
       "      <td>1012.357143</td>\n",
       "      <td>2016</td>\n",
       "      <td>3</td>\n",
       "      <td>Monday</td>\n",
       "    </tr>\n",
       "    <tr>\n",
       "      <th>2016-03-08</th>\n",
       "      <td>23.428571</td>\n",
       "      <td>60.214286</td>\n",
       "      <td>6.742857</td>\n",
       "      <td>1011.642857</td>\n",
       "      <td>2016</td>\n",
       "      <td>3</td>\n",
       "      <td>Tuesday</td>\n",
       "    </tr>\n",
       "    <tr>\n",
       "      <th>2016-03-09</th>\n",
       "      <td>24.000000</td>\n",
       "      <td>57.562500</td>\n",
       "      <td>9.375000</td>\n",
       "      <td>1012.062500</td>\n",
       "      <td>2016</td>\n",
       "      <td>3</td>\n",
       "      <td>Wednesday</td>\n",
       "    </tr>\n",
       "    <tr>\n",
       "      <th>2016-03-10</th>\n",
       "      <td>25.562500</td>\n",
       "      <td>57.437500</td>\n",
       "      <td>7.981250</td>\n",
       "      <td>1013.187500</td>\n",
       "      <td>2016</td>\n",
       "      <td>3</td>\n",
       "      <td>Thursday</td>\n",
       "    </tr>\n",
       "    <tr>\n",
       "      <th>2016-03-11</th>\n",
       "      <td>25.066667</td>\n",
       "      <td>67.800000</td>\n",
       "      <td>6.546667</td>\n",
       "      <td>1012.533333</td>\n",
       "      <td>2016</td>\n",
       "      <td>3</td>\n",
       "      <td>Friday</td>\n",
       "    </tr>\n",
       "    <tr>\n",
       "      <th>2016-03-12</th>\n",
       "      <td>24.562500</td>\n",
       "      <td>66.937500</td>\n",
       "      <td>9.487500</td>\n",
       "      <td>1009.562500</td>\n",
       "      <td>2016</td>\n",
       "      <td>3</td>\n",
       "      <td>Saturday</td>\n",
       "    </tr>\n",
       "    <tr>\n",
       "      <th>2016-03-13</th>\n",
       "      <td>24.250000</td>\n",
       "      <td>65.187500</td>\n",
       "      <td>6.843750</td>\n",
       "      <td>1011.187500</td>\n",
       "      <td>2016</td>\n",
       "      <td>3</td>\n",
       "      <td>Sunday</td>\n",
       "    </tr>\n",
       "    <tr>\n",
       "      <th>2016-03-14</th>\n",
       "      <td>22.375000</td>\n",
       "      <td>66.000000</td>\n",
       "      <td>6.275000</td>\n",
       "      <td>1014.312500</td>\n",
       "      <td>2016</td>\n",
       "      <td>3</td>\n",
       "      <td>Monday</td>\n",
       "    </tr>\n",
       "    <tr>\n",
       "      <th>2016-03-15</th>\n",
       "      <td>24.066667</td>\n",
       "      <td>58.933333</td>\n",
       "      <td>8.646667</td>\n",
       "      <td>1014.866667</td>\n",
       "      <td>2016</td>\n",
       "      <td>3</td>\n",
       "      <td>Tuesday</td>\n",
       "    </tr>\n",
       "    <tr>\n",
       "      <th>2016-03-16</th>\n",
       "      <td>23.937500</td>\n",
       "      <td>53.750000</td>\n",
       "      <td>10.881250</td>\n",
       "      <td>1012.812500</td>\n",
       "      <td>2016</td>\n",
       "      <td>3</td>\n",
       "      <td>Wednesday</td>\n",
       "    </tr>\n",
       "    <tr>\n",
       "      <th>2016-03-17</th>\n",
       "      <td>26.312500</td>\n",
       "      <td>50.312500</td>\n",
       "      <td>6.843750</td>\n",
       "      <td>1010.437500</td>\n",
       "      <td>2016</td>\n",
       "      <td>3</td>\n",
       "      <td>Thursday</td>\n",
       "    </tr>\n",
       "    <tr>\n",
       "      <th>2016-03-18</th>\n",
       "      <td>26.187500</td>\n",
       "      <td>61.250000</td>\n",
       "      <td>6.712500</td>\n",
       "      <td>1009.812500</td>\n",
       "      <td>2016</td>\n",
       "      <td>3</td>\n",
       "      <td>Friday</td>\n",
       "    </tr>\n",
       "    <tr>\n",
       "      <th>2016-03-19</th>\n",
       "      <td>26.785714</td>\n",
       "      <td>61.857143</td>\n",
       "      <td>3.578571</td>\n",
       "      <td>1009.214286</td>\n",
       "      <td>2016</td>\n",
       "      <td>3</td>\n",
       "      <td>Saturday</td>\n",
       "    </tr>\n",
       "    <tr>\n",
       "      <th>2016-03-20</th>\n",
       "      <td>27.133333</td>\n",
       "      <td>58.733333</td>\n",
       "      <td>2.846667</td>\n",
       "      <td>1010.333333</td>\n",
       "      <td>2016</td>\n",
       "      <td>3</td>\n",
       "      <td>Sunday</td>\n",
       "    </tr>\n",
       "    <tr>\n",
       "      <th>2016-03-21</th>\n",
       "      <td>26.625000</td>\n",
       "      <td>43.375000</td>\n",
       "      <td>12.262500</td>\n",
       "      <td>1011.125000</td>\n",
       "      <td>2016</td>\n",
       "      <td>3</td>\n",
       "      <td>Monday</td>\n",
       "    </tr>\n",
       "    <tr>\n",
       "      <th>2016-03-22</th>\n",
       "      <td>25.062500</td>\n",
       "      <td>37.875000</td>\n",
       "      <td>22.100000</td>\n",
       "      <td>1009.375000</td>\n",
       "      <td>2016</td>\n",
       "      <td>3</td>\n",
       "      <td>Tuesday</td>\n",
       "    </tr>\n",
       "    <tr>\n",
       "      <th>2016-03-23</th>\n",
       "      <td>26.200000</td>\n",
       "      <td>43.266667</td>\n",
       "      <td>10.641667</td>\n",
       "      <td>1010.000000</td>\n",
       "      <td>2016</td>\n",
       "      <td>3</td>\n",
       "      <td>Wednesday</td>\n",
       "    </tr>\n",
       "    <tr>\n",
       "      <th>2016-03-24</th>\n",
       "      <td>28.133333</td>\n",
       "      <td>46.866667</td>\n",
       "      <td>3.213333</td>\n",
       "      <td>1013.333333</td>\n",
       "      <td>2016</td>\n",
       "      <td>3</td>\n",
       "      <td>Thursday</td>\n",
       "    </tr>\n",
       "    <tr>\n",
       "      <th>2016-03-25</th>\n",
       "      <td>29.875000</td>\n",
       "      <td>50.187500</td>\n",
       "      <td>3.368750</td>\n",
       "      <td>1013.187500</td>\n",
       "      <td>2016</td>\n",
       "      <td>3</td>\n",
       "      <td>Friday</td>\n",
       "    </tr>\n",
       "    <tr>\n",
       "      <th>2016-03-26</th>\n",
       "      <td>24.666667</td>\n",
       "      <td>62.666667</td>\n",
       "      <td>9.393333</td>\n",
       "      <td>1013.600000</td>\n",
       "      <td>2016</td>\n",
       "      <td>3</td>\n",
       "      <td>Saturday</td>\n",
       "    </tr>\n",
       "    <tr>\n",
       "      <th>2016-03-27</th>\n",
       "      <td>26.250000</td>\n",
       "      <td>53.687500</td>\n",
       "      <td>9.156250</td>\n",
       "      <td>1012.812500</td>\n",
       "      <td>2016</td>\n",
       "      <td>3</td>\n",
       "      <td>Sunday</td>\n",
       "    </tr>\n",
       "    <tr>\n",
       "      <th>2016-03-28</th>\n",
       "      <td>25.933333</td>\n",
       "      <td>52.800000</td>\n",
       "      <td>6.546667</td>\n",
       "      <td>7679.333333</td>\n",
       "      <td>2016</td>\n",
       "      <td>3</td>\n",
       "      <td>Monday</td>\n",
       "    </tr>\n",
       "    <tr>\n",
       "      <th>2016-03-29</th>\n",
       "      <td>27.125000</td>\n",
       "      <td>47.750000</td>\n",
       "      <td>7.293750</td>\n",
       "      <td>1011.312500</td>\n",
       "      <td>2016</td>\n",
       "      <td>3</td>\n",
       "      <td>Tuesday</td>\n",
       "    </tr>\n",
       "    <tr>\n",
       "      <th>2016-03-30</th>\n",
       "      <td>29.571429</td>\n",
       "      <td>39.785714</td>\n",
       "      <td>7.021429</td>\n",
       "      <td>1011.142857</td>\n",
       "      <td>2016</td>\n",
       "      <td>3</td>\n",
       "      <td>Wednesday</td>\n",
       "    </tr>\n",
       "    <tr>\n",
       "      <th>2016-03-31</th>\n",
       "      <td>30.000000</td>\n",
       "      <td>39.733333</td>\n",
       "      <td>4.333333</td>\n",
       "      <td>1009.200000</td>\n",
       "      <td>2016</td>\n",
       "      <td>3</td>\n",
       "      <td>Thursday</td>\n",
       "    </tr>\n",
       "  </tbody>\n",
       "</table>\n",
       "</div>"
      ],
      "text/plain": [
       "             meantemp   humidity  wind_speed  meanpressure  Year  Month  \\\n",
       "date                                                                      \n",
       "2016-03-01  24.916667  57.416667    1.700000   1015.000000  2016      3   \n",
       "2016-03-02  24.933333  57.066667    1.733333   1015.400000  2016      3   \n",
       "2016-03-03  26.000000  55.615385    4.292308   1014.615385  2016      3   \n",
       "2016-03-04  27.312500  44.250000    6.143750   1012.687500  2016      3   \n",
       "2016-03-05  23.933333  57.133333   11.000000   1012.666667  2016      3   \n",
       "2016-03-06  22.812500  66.562500    5.218750   1013.062500  2016      3   \n",
       "2016-03-07  23.714286  64.142857    5.171429   1012.357143  2016      3   \n",
       "2016-03-08  23.428571  60.214286    6.742857   1011.642857  2016      3   \n",
       "2016-03-09  24.000000  57.562500    9.375000   1012.062500  2016      3   \n",
       "2016-03-10  25.562500  57.437500    7.981250   1013.187500  2016      3   \n",
       "2016-03-11  25.066667  67.800000    6.546667   1012.533333  2016      3   \n",
       "2016-03-12  24.562500  66.937500    9.487500   1009.562500  2016      3   \n",
       "2016-03-13  24.250000  65.187500    6.843750   1011.187500  2016      3   \n",
       "2016-03-14  22.375000  66.000000    6.275000   1014.312500  2016      3   \n",
       "2016-03-15  24.066667  58.933333    8.646667   1014.866667  2016      3   \n",
       "2016-03-16  23.937500  53.750000   10.881250   1012.812500  2016      3   \n",
       "2016-03-17  26.312500  50.312500    6.843750   1010.437500  2016      3   \n",
       "2016-03-18  26.187500  61.250000    6.712500   1009.812500  2016      3   \n",
       "2016-03-19  26.785714  61.857143    3.578571   1009.214286  2016      3   \n",
       "2016-03-20  27.133333  58.733333    2.846667   1010.333333  2016      3   \n",
       "2016-03-21  26.625000  43.375000   12.262500   1011.125000  2016      3   \n",
       "2016-03-22  25.062500  37.875000   22.100000   1009.375000  2016      3   \n",
       "2016-03-23  26.200000  43.266667   10.641667   1010.000000  2016      3   \n",
       "2016-03-24  28.133333  46.866667    3.213333   1013.333333  2016      3   \n",
       "2016-03-25  29.875000  50.187500    3.368750   1013.187500  2016      3   \n",
       "2016-03-26  24.666667  62.666667    9.393333   1013.600000  2016      3   \n",
       "2016-03-27  26.250000  53.687500    9.156250   1012.812500  2016      3   \n",
       "2016-03-28  25.933333  52.800000    6.546667   7679.333333  2016      3   \n",
       "2016-03-29  27.125000  47.750000    7.293750   1011.312500  2016      3   \n",
       "2016-03-30  29.571429  39.785714    7.021429   1011.142857  2016      3   \n",
       "2016-03-31  30.000000  39.733333    4.333333   1009.200000  2016      3   \n",
       "\n",
       "           Weekday Name  \n",
       "date                     \n",
       "2016-03-01      Tuesday  \n",
       "2016-03-02    Wednesday  \n",
       "2016-03-03     Thursday  \n",
       "2016-03-04       Friday  \n",
       "2016-03-05     Saturday  \n",
       "2016-03-06       Sunday  \n",
       "2016-03-07       Monday  \n",
       "2016-03-08      Tuesday  \n",
       "2016-03-09    Wednesday  \n",
       "2016-03-10     Thursday  \n",
       "2016-03-11       Friday  \n",
       "2016-03-12     Saturday  \n",
       "2016-03-13       Sunday  \n",
       "2016-03-14       Monday  \n",
       "2016-03-15      Tuesday  \n",
       "2016-03-16    Wednesday  \n",
       "2016-03-17     Thursday  \n",
       "2016-03-18       Friday  \n",
       "2016-03-19     Saturday  \n",
       "2016-03-20       Sunday  \n",
       "2016-03-21       Monday  \n",
       "2016-03-22      Tuesday  \n",
       "2016-03-23    Wednesday  \n",
       "2016-03-24     Thursday  \n",
       "2016-03-25       Friday  \n",
       "2016-03-26     Saturday  \n",
       "2016-03-27       Sunday  \n",
       "2016-03-28       Monday  \n",
       "2016-03-29      Tuesday  \n",
       "2016-03-30    Wednesday  \n",
       "2016-03-31     Thursday  "
      ]
     },
     "execution_count": 12,
     "metadata": {},
     "output_type": "execute_result"
    }
   ],
   "source": [
    "# Partial-string indexing for the month of March 2016\n",
    "delhi_daily_weather.loc['2016-03']"
   ]
  },
  {
   "cell_type": "markdown",
   "metadata": {
    "slideshow": {
     "slide_type": "slide"
    }
   },
   "source": [
    "### 3. Visualizing time series data\n",
    "\n",
    "Considering the table above, `meanpressure` doesn't provide us with significant information to analyze our data. So we decide to drop it and work only with the first three columns, namely, `meantemp`, `humidity`, and `wind_speed`."
   ]
  },
  {
   "cell_type": "code",
   "execution_count": 13,
   "metadata": {},
   "outputs": [],
   "source": [
    "# Use seaborn style defaults and set the default figure size\n",
    "sns.set(rc={'figure.figsize':(14, 7)})"
   ]
  },
  {
   "cell_type": "code",
   "execution_count": 17,
   "metadata": {
    "scrolled": true
   },
   "outputs": [
    {
     "data": {
      "image/png": "[encoded data removed]",
      "text/plain": [
       "<Figure size 1080x720 with 3 Axes>"
      ]
     },
     "metadata": {},
     "output_type": "display_data"
    }
   ],
   "source": [
    "# Consider the meantemp, humidity and wind_speed time series\n",
    "cols_plot = ['meantemp', 'humidity', 'wind_speed']\n",
    "axes = delhi_daily_weather[cols_plot].plot(marker='o', figsize=(15,10),alpha=0.5, linestyle='None', subplots=True)\n",
    "\n",
    "ylabels = ['Degree Celsius ($^\\circ C$)','Vapour per cubic meter','kmph']\n",
    "count = 0\n",
    "for ax in axes:\n",
    "    ax.set_ylabel(ylabels[count])\n",
    "    count = count + 1"
   ]
  },
  {
   "cell_type": "markdown",
   "metadata": {},
   "source": [
    "Considering the pattern of the figure shown above, it is evident that temperature and wind speed are inversely proportional to the amount of humidity. In the sense that, when they increase simultaneously the amount of humidity decreases. However, the wind speed seems not to vary too much with little outliers having speed of more than $20\\,kmph$.\n",
    "\n",
    "In light of the previous figure, let's consider temperature parameter only."
   ]
  },
  {
   "cell_type": "code",
   "execution_count": null,
   "metadata": {},
   "outputs": [],
   "source": [
    "delhi_daily_weather['meantemp'].plot(linewidth=0.7);\n",
    "plt.title('2013 - 2017 Mean Temperature')\n",
    "plt.ylabel('Degree Celsius ($^\\circ C$)')"
   ]
  },
  {
   "cell_type": "markdown",
   "metadata": {},
   "source": [
    "The figure above shows that, some periods of the year (possibly, summer time i.e., May to October) experience temperature higher than $30^\\circ C$ while others (winter time i.e., December and January) have temperature below $15^\\circ C$.\n",
    "\n",
    "Let's focus on the year of 2015."
   ]
  },
  {
   "cell_type": "code",
   "execution_count": null,
   "metadata": {},
   "outputs": [],
   "source": [
    "# Monthly temperature in 2015\n",
    "ax = delhi_daily_weather.loc['2015', 'meantemp'].plot()\n",
    "ax.set_ylabel('Degree Celsius ($^\\circ C$)')\n",
    "plt.title('2015 Mean Temperature')"
   ]
  },
  {
   "cell_type": "markdown",
   "metadata": {},
   "source": [
    "As we guessed earlier, the temperature rises beyond $30^\\circ C$ between May and October, and it goes below $15^\\circ C$ in January and December.\n",
    "\n",
    "Let's now visualize our data for Jan and Feb with `x-ticks` represented in a nice format."
   ]
  },
  {
   "cell_type": "code",
   "execution_count": null,
   "metadata": {
    "scrolled": true
   },
   "outputs": [],
   "source": [
    "fig, ax = plt.subplots()\n",
    "ax.plot(delhi_daily_weather.loc['2015-01':'2015-02', 'meantemp'], marker='o', linestyle='-')\n",
    "ax.set_ylabel('Celsius Degrees ($^\\circ C$)')\n",
    "ax.set_title('Jan-Feb 2017 Mean Temperature')\n",
    "# Set x-axis major ticks to weekly interval, on Mondays\n",
    "ax.xaxis.set_major_locator(mdates.WeekdayLocator(byweekday=mdates.MONDAY))\n",
    "# Format x-tick labels as 3-letter month name and day number\n",
    "ax.xaxis.set_major_formatter(mdates.DateFormatter('%b %d'));"
   ]
  },
  {
   "cell_type": "markdown",
   "metadata": {},
   "source": [
    "Now we have vertical gridlines and nicely formatted tick labels on each Monday, so we can easily tell which days are weekdays and weekends."
   ]
  },
  {
   "cell_type": "markdown",
   "metadata": {},
   "source": [
    "### 4. Seasonality\n",
    "We concentrate on yearly temperature, humidity and wind speed variations, and study their relationships."
   ]
  },
  {
   "cell_type": "code",
   "execution_count": null,
   "metadata": {},
   "outputs": [],
   "source": [
    "fig, axes = plt.subplots(3, 1, figsize=(11, 10), sharex=True)\n",
    "for name, ax in zip(['meantemp', 'humidity', 'wind_speed'], axes):\n",
    "    sns.boxplot(data=delhi_daily_weather, x='Month', y=name, ax=ax)\n",
    "ax.set_ylabel('Kmph')\n",
    "ax.set_title(name)\n",
    "# Remove the automatic x-axis label from all but the bottom subplot\n",
    "if ax != axes[-1]:\n",
    "    ax.set_xlabel('')"
   ]
  },
  {
   "cell_type": "markdown",
   "metadata": {},
   "source": [
    "These box plots confirm the yearly seasonality that we saw in earlier plots.\n",
    "\n",
    "Our next step for seasonality is based on weekly temperature, humidity and wind speed."
   ]
  },
  {
   "cell_type": "code",
   "execution_count": null,
   "metadata": {
    "scrolled": true
   },
   "outputs": [],
   "source": [
    "sns.boxplot(data=delhi_daily_weather, x='Weekday Name', y='meantemp')\n",
    "plt.title('Weekly mean temperature')"
   ]
  },
  {
   "cell_type": "markdown",
   "metadata": {},
   "source": [
    "The figure above depicts that, the temperature doesn't change much on weekly basis as it lies between $19^\\circ C$ and $32^\\circ C$."
   ]
  },
  {
   "cell_type": "code",
   "execution_count": null,
   "metadata": {},
   "outputs": [],
   "source": [
    "sns.boxplot(data=delhi_daily_weather, x='Weekday Name', y='humidity')\n",
    "plt.title('Weekly humidity')"
   ]
  },
  {
   "cell_type": "markdown",
   "metadata": {},
   "source": [
    "Again there is not much variation in humidity level with some exceptional outliers on Tuesdays, Wednesdays and Thursdays."
   ]
  },
  {
   "cell_type": "code",
   "execution_count": null,
   "metadata": {},
   "outputs": [],
   "source": [
    "sns.boxplot(data=delhi_daily_weather, x='Weekday Name', y='wind_speed')\n",
    "plt.title('Weekly wind speed')"
   ]
  },
  {
   "cell_type": "markdown",
   "metadata": {},
   "source": [
    "### 5. Frequencies"
   ]
  },
  {
   "cell_type": "code",
   "execution_count": null,
   "metadata": {},
   "outputs": [],
   "source": [
    "delhi_daily_weather.index"
   ]
  },
  {
   "cell_type": "code",
   "execution_count": null,
   "metadata": {},
   "outputs": [],
   "source": [
    "# To select an arbitrary sequence of date/time values from a pandas time series,\n",
    "# we need to use a DatetimeIndex, rather than simply a list of date/time strings\n",
    "times_sample = pd.to_datetime(['2013-02-03', '2013-02-06', '2013-02-08'])\n",
    "# Select the specified dates and just the meantemp column\n",
    "meantemp_sample = delhi_daily_weather.loc[times_sample, ['meantemp']].copy()\n",
    "meantemp_sample"
   ]
  },
  {
   "cell_type": "code",
   "execution_count": null,
   "metadata": {},
   "outputs": [],
   "source": [
    "# Convert the data to daily frequency, without filling any missings\n",
    "meantemp_freq = meantemp_sample.asfreq('D')\n",
    "# Create a column with missings forward filled\n",
    "meantemp_freq['meantemp - Forward Fill'] = meantemp_sample.asfreq('D', method='ffill')\n",
    "meantemp_freq"
   ]
  },
  {
   "cell_type": "markdown",
   "metadata": {},
   "source": [
    "### 6. Resampling\n",
    "Using `resample()` method and apply aggregation methods `mean()`, `mode()`, `median()`, etc"
   ]
  },
  {
   "cell_type": "code",
   "execution_count": null,
   "metadata": {},
   "outputs": [],
   "source": [
    "# Specify the data columns we want to include (i.e. exclude Year, Month, Weekday Name)\n",
    "data_columns = ['meantemp', 'humidity', 'wind_speed']\n",
    "# Resample to weekly frequency, aggregating with mean\n",
    "delhi_weekly_mean = delhi_daily_weather[data_columns].resample('W').mean()\n",
    "delhi_weekly_mean.head(3)"
   ]
  },
  {
   "cell_type": "code",
   "execution_count": null,
   "metadata": {},
   "outputs": [],
   "source": [
    "delhi_weekly_mean.tail(3)"
   ]
  },
  {
   "cell_type": "code",
   "execution_count": null,
   "metadata": {},
   "outputs": [],
   "source": [
    "# Comparing the rows after resampling the data on weekly mean\n",
    "print(delhi_daily_weather.shape[0])\n",
    "print(delhi_weekly_mean.shape[0])"
   ]
  },
  {
   "cell_type": "markdown",
   "metadata": {},
   "source": [
    "Let’s plot the daily and weekly mean temperature time series together over a single six-month period to compare them."
   ]
  },
  {
   "cell_type": "code",
   "execution_count": null,
   "metadata": {},
   "outputs": [],
   "source": [
    "# Start and end of the date range to extract\n",
    "start, end = '2015-01', '2015-06'\n",
    "# Plot daily and weekly resampled time series together\n",
    "fig, ax = plt.subplots()\n",
    "ax.plot(delhi_daily_weather.loc[start:end, 'meantemp'],\n",
    "        marker='.', linestyle='-', linewidth=0.5, label='Daily')\n",
    "ax.plot(delhi_weekly_mean.loc[start:end, 'meantemp'],\n",
    "        marker='o', markersize=8, linestyle='-', label='Weekly Mean Resample')\n",
    "ax.set_ylabel('Mean Temperature ($^\\circ C$)')\n",
    "ax.legend();"
   ]
  },
  {
   "cell_type": "markdown",
   "metadata": {},
   "source": [
    "We can see that the weekly mean time series is smoother than the daily time series because higher frequency variability has been averaged out in the resampling."
   ]
  },
  {
   "cell_type": "code",
   "execution_count": null,
   "metadata": {},
   "outputs": [],
   "source": [
    "# Compute the maximum monthly of data\n",
    "delhi_monthly_max = delhi_daily_weather[data_columns].resample('M').max()\n",
    "delhi_monthly_max.head(3)"
   ]
  },
  {
   "cell_type": "code",
   "execution_count": null,
   "metadata": {},
   "outputs": [],
   "source": [
    "delhi_monthly_max.tail(3)"
   ]
  },
  {
   "cell_type": "markdown",
   "metadata": {},
   "source": [
    "Let’s explore this further by resampling to annual frequency and computing the ratio of `meantemp` to `humidity` for each year."
   ]
  },
  {
   "cell_type": "code",
   "execution_count": null,
   "metadata": {},
   "outputs": [],
   "source": [
    "# Compute the maximum annual temperature\n",
    "delhi_annual_max = delhi_daily_weather[data_columns].resample('A').max()\n",
    "# The default index of the resampled DataFrame is the last day of each year,\n",
    "# ('2013-12-31', '2014-12-31', etc.) so to make life easier, set the index\n",
    "# to the year component\n",
    "delhi_annual_max = delhi_annual_max.set_index(delhi_annual_max.index.year)\n",
    "delhi_annual_max.index.name = 'Year'\n",
    "# Compute the ratio of meantemp to humidity\n",
    "delhi_annual_max['Ratio'] = delhi_annual_max['meantemp'] / delhi_annual_max['humidity']\n",
    "delhi_annual_max.head(5)"
   ]
  },
  {
   "cell_type": "markdown",
   "metadata": {},
   "source": [
    "Finally, let’s plot the  ratio of `meantemp` and `humidity` as a bar chart."
   ]
  },
  {
   "cell_type": "code",
   "execution_count": null,
   "metadata": {},
   "outputs": [],
   "source": [
    "ax = delhi_annual_max.loc[2013:, 'Ratio'].plot.bar(color='C0')\n",
    "ax.set_ylabel('Fraction')\n",
    "ax.set_ylim(0, .5)\n",
    "ax.set_title('Humidity temperature ratio')\n",
    "plt.xticks(rotation=0);"
   ]
  },
  {
   "cell_type": "markdown",
   "metadata": {},
   "source": [
    "The figure above tells us that, the ratio lies between $0.35$ and $0.45$ for the first four years and it is far below for $2017$ because there are not enough data for that year."
   ]
  },
  {
   "cell_type": "markdown",
   "metadata": {},
   "source": [
    "### 7. Rolling Windows\n",
    "Let’s use the `rolling()` method to compute the 7-day rolling mean of our daily data."
   ]
  },
  {
   "cell_type": "code",
   "execution_count": null,
   "metadata": {},
   "outputs": [],
   "source": [
    "# Compute the centered 7-day rolling mean\n",
    "delhi_7d = delhi_daily_weather[data_columns].rolling(7, center=True).mean()\n",
    "delhi_7d.head(10)"
   ]
  },
  {
   "cell_type": "markdown",
   "metadata": {},
   "source": [
    "To visualize the differences between rolling mean and resampling, let’s update our earlier plot of January-June 2015 mean temperature to include the 7-day rolling mean along with the weekly mean resampled time series and the original daily data."
   ]
  },
  {
   "cell_type": "code",
   "execution_count": null,
   "metadata": {},
   "outputs": [],
   "source": [
    "# Start and end of the date range to extract\n",
    "start, end = '2015-01', '2015-06'\n",
    "# Plot daily, weekly resampled, and 7-day rolling mean time series together\n",
    "fig, ax = plt.subplots()\n",
    "ax.plot(delhi_daily_weather.loc[start:end, 'meantemp'],\n",
    "        marker='.', linestyle='-', linewidth=0.5, label='Daily')\n",
    "ax.plot(delhi_weekly_mean.loc[start:end, 'meantemp'],\n",
    "        marker='o', markersize=8, linestyle='-', label='Weekly Mean Resample')\n",
    "ax.plot(delhi_7d.loc[start:end, 'meantemp'],\n",
    "        marker='.', linestyle='-', label='7-d Rolling Mean')\n",
    "ax.set_ylabel('Mean Temperature ($^\\circ C$)')\n",
    "ax.legend();"
   ]
  },
  {
   "cell_type": "markdown",
   "metadata": {},
   "source": [
    "We can see that data points in the rolling mean time series have the same spacing as the daily data, but the curve is smoother because higher frequency variability has been averaged out. In the rolling mean time series, the peaks and troughs tend to align closely with the peaks and troughs of the daily time series. In contrast, the peaks and troughs in the weekly resampled time series are less closely aligned with the daily time series, since the resampled time series is at a coarser granularity."
   ]
  },
  {
   "cell_type": "markdown",
   "metadata": {},
   "source": [
    "We’ve already computed 7-day rolling means, so now let’s compute the 365-day rolling mean of our weather data."
   ]
  },
  {
   "cell_type": "code",
   "execution_count": null,
   "metadata": {},
   "outputs": [],
   "source": [
    "# The min_periods=360 argument accounts for a few isolated missing days\n",
    "delhi_365d = delhi_daily_weather[data_columns].rolling(window=365, center=True, min_periods=360).mean()\n",
    "delhi_365d.tail(400)"
   ]
  },
  {
   "cell_type": "markdown",
   "metadata": {},
   "source": [
    "Let’s plot the 7-day and 365-day rolling mean temperature, along with the daily time series."
   ]
  },
  {
   "cell_type": "code",
   "execution_count": null,
   "metadata": {},
   "outputs": [],
   "source": [
    "# Plot daily, 7-day rolling mean, and 365-day rolling mean time series\n",
    "fig, ax = plt.subplots()\n",
    "ax.plot(delhi_daily_weather['meantemp'], marker='.', markersize=4, color='0.6',\n",
    "        linestyle='None', label='Daily')\n",
    "ax.plot(delhi_7d['meantemp'], linewidth=2, label='7-d Rolling Mean')\n",
    "ax.plot(delhi_365d['meantemp'], color='0.2', linewidth=3,\n",
    "        label='Trend (365-d Rolling Mean)')\n",
    "# Set x-ticks to yearly interval and add legend and labels\n",
    "ax.xaxis.set_major_locator(mdates.YearLocator())\n",
    "ax.legend()\n",
    "ax.set_xlabel('Year')\n",
    "ax.set_ylabel('Mean Temperature ($^\\circ C$)')\n",
    "ax.set_title('Trends in Tempeature');"
   ]
  },
  {
   "cell_type": "markdown",
   "metadata": {},
   "source": [
    "Annual trend of humidity."
   ]
  },
  {
   "cell_type": "code",
   "execution_count": null,
   "metadata": {},
   "outputs": [],
   "source": [
    "# Plot 365-day rolling mean time series of humidity\n",
    "fig, ax = plt.subplots()\n",
    "for nm in ['humidity']:\n",
    "    ax.plot(delhi_365d[nm], label=nm)\n",
    "    # Set x-ticks to yearly interval, adjust y-axis limits, add legend and labels\n",
    "    ax.xaxis.set_major_locator(mdates.YearLocator())\n",
    "    ax.set_ylim(58, 67)\n",
    "    ax.legend()\n",
    "    ax.set_ylabel('Vapor per cubic meter')\n",
    "    ax.set_title('Trends in humidity (365-d Rolling Means)');"
   ]
  },
  {
   "cell_type": "markdown",
   "metadata": {},
   "source": [
    "### 8. Correlation between humidity and temperature"
   ]
  },
  {
   "cell_type": "code",
   "execution_count": null,
   "metadata": {},
   "outputs": [],
   "source": [
    "temperature = np.array(delhi_daily_weather['meantemp'])\n",
    "humidity = np.array(delhi_daily_weather['humidity']).reshape(-1,1)\n",
    "model = lr().fit(humidity, temperature)\n",
    "#Coefficient of determination r_sq\n",
    "print('r_sq = ', model.score(humidity, temperature),'\\n')\n",
    "#Intercept\n",
    "print('Intercept = ', model.intercept_,'\\n')\n",
    "#Slope\n",
    "print('Slope = ', model.coef_,'\\n\\n')\n",
    "pred_temp = model.predict(humidity)"
   ]
  },
  {
   "cell_type": "code",
   "execution_count": null,
   "metadata": {},
   "outputs": [],
   "source": [
    "# fig, ax = plt.subplots()\n",
    "# ax.plot(delhi_daily_weather['Year'], temperature, 'o', label='Mean Temperature')\n",
    "# ax.plot(delhi_daily_weather['Year'], pred_temp, 'o', label='Predicted Temperature')\n",
    "# ax.set_ylabel('Mean Temperature Vs Predicted')\n",
    "# ax.legend();"
   ]
  }
 ],
 "metadata": {
  "kernelspec": {
   "display_name": "Python 3",
   "language": "python",
   "name": "python3"
  },
  "language_info": {
   "codemirror_mode": {
    "name": "ipython",
    "version": 3
   },
   "file_extension": ".py",
   "mimetype": "text/x-python",
   "name": "python",
   "nbconvert_exporter": "python",
   "pygments_lexer": "ipython3",
   "version": "3.8.3"
  }
 },
 "nbformat": 4,
 "nbformat_minor": 4
}
