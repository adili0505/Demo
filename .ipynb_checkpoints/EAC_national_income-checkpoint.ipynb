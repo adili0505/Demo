{
 "cells": [
  {
   "cell_type": "code",
   "execution_count": 1,
   "metadata": {},
   "outputs": [
    {
     "name": "stdout",
     "output_type": "stream",
     "text": [
      "Requirement already satisfied: quandl in /opt/anaconda3/lib/python3.8/site-packages (3.5.2)\n",
      "Requirement already satisfied: python-dateutil in /opt/anaconda3/lib/python3.8/site-packages (from quandl) (2.8.1)\n",
      "Requirement already satisfied: six in /opt/anaconda3/lib/python3.8/site-packages (from quandl) (1.15.0)\n",
      "Requirement already satisfied: more-itertools in /opt/anaconda3/lib/python3.8/site-packages (from quandl) (8.4.0)\n",
      "Requirement already satisfied: pandas>=0.14 in /opt/anaconda3/lib/python3.8/site-packages (from quandl) (1.1.3)\n",
      "Requirement already satisfied: inflection>=0.3.1 in /opt/anaconda3/lib/python3.8/site-packages (from quandl) (0.5.1)\n",
      "Requirement already satisfied: requests>=2.7.0 in /opt/anaconda3/lib/python3.8/site-packages (from quandl) (2.24.0)\n",
      "Requirement already satisfied: numpy>=1.8 in /opt/anaconda3/lib/python3.8/site-packages (from quandl) (1.18.5)\n",
      "Requirement already satisfied: pytz>=2017.2 in /opt/anaconda3/lib/python3.8/site-packages (from pandas>=0.14->quandl) (2020.1)\n",
      "Requirement already satisfied: chardet<4,>=3.0.2 in /opt/anaconda3/lib/python3.8/site-packages (from requests>=2.7.0->quandl) (3.0.4)\n",
      "Requirement already satisfied: certifi>=2017.4.17 in /opt/anaconda3/lib/python3.8/site-packages (from requests>=2.7.0->quandl) (2020.6.20)\n",
      "Requirement already satisfied: idna<3,>=2.5 in /opt/anaconda3/lib/python3.8/site-packages (from requests>=2.7.0->quandl) (2.10)\n",
      "Requirement already satisfied: urllib3!=1.25.0,!=1.25.1,<1.26,>=1.21.1 in /opt/anaconda3/lib/python3.8/site-packages (from requests>=2.7.0->quandl) (1.25.9)\n",
      "Note: you may need to restart the kernel to use updated packages.\n"
     ]
    }
   ],
   "source": [
    "%pip install quandl\n",
    "import quandl as ql\n",
    "import numpy as np\n",
    "import pandas as pd\n",
    "import matplotlib.pylab as plt\n",
    "from sklearn.linear_model import LinearRegression as lr"
   ]
  },
  {
   "cell_type": "code",
   "execution_count": 2,
   "metadata": {},
   "outputs": [],
   "source": [
    "tza = ql.get(\"PSE/ANNINC992I_PALL_TZ\", authtoken=\"-K72dVjJWtM7ztFbz-95\") # Tanzania data\n",
    "ken = ql.get(\"PSE/ANNINC992I_PALL_KE\", authtoken=\"-K72dVjJWtM7ztFbz-95\") # Kenya data\n",
    "uga = ql.get(\"PSE/ANNINC992I_PALL_UG\", authtoken=\"-K72dVjJWtM7ztFbz-95\") # Uganda data"
   ]
  },
  {
   "cell_type": "code",
   "execution_count": 3,
   "metadata": {},
   "outputs": [
    {
     "data": {
      "text/html": [
       "<div>\n",
       "<style scoped>\n",
       "    .dataframe tbody tr th:only-of-type {\n",
       "        vertical-align: middle;\n",
       "    }\n",
       "\n",
       "    .dataframe tbody tr th {\n",
       "        vertical-align: top;\n",
       "    }\n",
       "\n",
       "    .dataframe thead th {\n",
       "        text-align: right;\n",
       "    }\n",
       "</style>\n",
       "<table border=\"1\" class=\"dataframe\">\n",
       "  <thead>\n",
       "    <tr style=\"text-align: right;\">\n",
       "      <th></th>\n",
       "      <th>Value</th>\n",
       "    </tr>\n",
       "    <tr>\n",
       "      <th>Date</th>\n",
       "      <th></th>\n",
       "    </tr>\n",
       "  </thead>\n",
       "  <tbody>\n",
       "    <tr>\n",
       "      <th>1950-12-31</th>\n",
       "      <td>1478838.75</td>\n",
       "    </tr>\n",
       "    <tr>\n",
       "      <th>1951-12-31</th>\n",
       "      <td>1634645.50</td>\n",
       "    </tr>\n",
       "    <tr>\n",
       "      <th>1952-12-31</th>\n",
       "      <td>1620628.75</td>\n",
       "    </tr>\n",
       "  </tbody>\n",
       "</table>\n",
       "</div>"
      ],
      "text/plain": [
       "                 Value\n",
       "Date                  \n",
       "1950-12-31  1478838.75\n",
       "1951-12-31  1634645.50\n",
       "1952-12-31  1620628.75"
      ]
     },
     "execution_count": 3,
     "metadata": {},
     "output_type": "execute_result"
    }
   ],
   "source": [
    "tza.head(3)"
   ]
  },
  {
   "cell_type": "code",
   "execution_count": 4,
   "metadata": {},
   "outputs": [
    {
     "data": {
      "text/plain": [
       "DatetimeIndex(['1950-12-31', '1951-12-31', '1952-12-31', '1953-12-31',\n",
       "               '1954-12-31', '1955-12-31', '1956-12-31', '1957-12-31',\n",
       "               '1958-12-31', '1959-12-31', '1960-12-31', '1961-12-31',\n",
       "               '1962-12-31', '1963-12-31', '1964-12-31', '1965-12-31',\n",
       "               '1966-12-31', '1967-12-31', '1968-12-31', '1969-12-31',\n",
       "               '1970-12-31', '1971-12-31', '1972-12-31', '1973-12-31',\n",
       "               '1974-12-31', '1975-12-31', '1976-12-31', '1977-12-31',\n",
       "               '1978-12-31', '1979-12-31', '1980-12-31', '1981-12-31',\n",
       "               '1982-12-31', '1983-12-31', '1984-12-31', '1985-12-31',\n",
       "               '1986-12-31', '1987-12-31', '1988-12-31', '1989-12-31',\n",
       "               '1990-12-31', '1991-12-31', '1992-12-31', '1993-12-31',\n",
       "               '1994-12-31', '1995-12-31', '1996-12-31', '1997-12-31',\n",
       "               '1998-12-31', '1999-12-31', '2000-12-31', '2001-12-31',\n",
       "               '2002-12-31', '2003-12-31', '2004-12-31', '2005-12-31',\n",
       "               '2006-12-31', '2007-12-31', '2008-12-31', '2009-12-31',\n",
       "               '2010-12-31', '2011-12-31', '2012-12-31', '2013-12-31',\n",
       "               '2014-12-31', '2015-12-31'],\n",
       "              dtype='datetime64[ns]', name='Date', freq=None)"
      ]
     },
     "execution_count": 4,
     "metadata": {},
     "output_type": "execute_result"
    }
   ],
   "source": [
    "uga.index"
   ]
  },
  {
   "cell_type": "code",
   "execution_count": 5,
   "metadata": {},
   "outputs": [],
   "source": [
    "tanzanian_data = tza['Value']\n",
    "tanzanian_data.columns = ['Tanzania']\n",
    "kenyan_data = ken['Value']\n",
    "kenyan_data.columns = ['Kenya']\n",
    "ugandan_data = uga['Value']\n",
    "ugandan_data.columns = ['Uganda']"
   ]
  },
  {
   "cell_type": "code",
   "execution_count": 6,
   "metadata": {},
   "outputs": [
    {
     "data": {
      "text/html": [
       "<div>\n",
       "<style scoped>\n",
       "    .dataframe tbody tr th:only-of-type {\n",
       "        vertical-align: middle;\n",
       "    }\n",
       "\n",
       "    .dataframe tbody tr th {\n",
       "        vertical-align: top;\n",
       "    }\n",
       "\n",
       "    .dataframe thead th {\n",
       "        text-align: right;\n",
       "    }\n",
       "</style>\n",
       "<table border=\"1\" class=\"dataframe\">\n",
       "  <thead>\n",
       "    <tr style=\"text-align: right;\">\n",
       "      <th></th>\n",
       "      <th>Value_x</th>\n",
       "      <th>Value_y</th>\n",
       "    </tr>\n",
       "    <tr>\n",
       "      <th>Date</th>\n",
       "      <th></th>\n",
       "      <th></th>\n",
       "    </tr>\n",
       "  </thead>\n",
       "  <tbody>\n",
       "    <tr>\n",
       "      <th>1950-12-31</th>\n",
       "      <td>1478838.750</td>\n",
       "      <td>136330.765625</td>\n",
       "    </tr>\n",
       "    <tr>\n",
       "      <th>1951-12-31</th>\n",
       "      <td>1634645.500</td>\n",
       "      <td>164822.718750</td>\n",
       "    </tr>\n",
       "    <tr>\n",
       "      <th>1952-12-31</th>\n",
       "      <td>1620628.750</td>\n",
       "      <td>142518.484375</td>\n",
       "    </tr>\n",
       "    <tr>\n",
       "      <th>1953-12-31</th>\n",
       "      <td>1510832.875</td>\n",
       "      <td>135623.468750</td>\n",
       "    </tr>\n",
       "    <tr>\n",
       "      <th>1954-12-31</th>\n",
       "      <td>1593558.750</td>\n",
       "      <td>148888.125000</td>\n",
       "    </tr>\n",
       "    <tr>\n",
       "      <th>...</th>\n",
       "      <td>...</td>\n",
       "      <td>...</td>\n",
       "    </tr>\n",
       "    <tr>\n",
       "      <th>2011-12-31</th>\n",
       "      <td>3111927.500</td>\n",
       "      <td>242232.500000</td>\n",
       "    </tr>\n",
       "    <tr>\n",
       "      <th>2012-12-31</th>\n",
       "      <td>3180691.750</td>\n",
       "      <td>245299.328125</td>\n",
       "    </tr>\n",
       "    <tr>\n",
       "      <th>2013-12-31</th>\n",
       "      <td>3312852.750</td>\n",
       "      <td>251548.343750</td>\n",
       "    </tr>\n",
       "    <tr>\n",
       "      <th>2014-12-31</th>\n",
       "      <td>3458366.250</td>\n",
       "      <td>255467.734375</td>\n",
       "    </tr>\n",
       "    <tr>\n",
       "      <th>2015-12-31</th>\n",
       "      <td>3573322.500</td>\n",
       "      <td>263548.500000</td>\n",
       "    </tr>\n",
       "  </tbody>\n",
       "</table>\n",
       "<p>66 rows × 2 columns</p>\n",
       "</div>"
      ],
      "text/plain": [
       "                Value_x        Value_y\n",
       "Date                                  \n",
       "1950-12-31  1478838.750  136330.765625\n",
       "1951-12-31  1634645.500  164822.718750\n",
       "1952-12-31  1620628.750  142518.484375\n",
       "1953-12-31  1510832.875  135623.468750\n",
       "1954-12-31  1593558.750  148888.125000\n",
       "...                 ...            ...\n",
       "2011-12-31  3111927.500  242232.500000\n",
       "2012-12-31  3180691.750  245299.328125\n",
       "2013-12-31  3312852.750  251548.343750\n",
       "2014-12-31  3458366.250  255467.734375\n",
       "2015-12-31  3573322.500  263548.500000\n",
       "\n",
       "[66 rows x 2 columns]"
      ]
     },
     "execution_count": 6,
     "metadata": {},
     "output_type": "execute_result"
    }
   ],
   "source": [
    "merged_inner = pd.merge(left=tanzanian_data, right=kenyan_data, left_on='Date', right_on='Date')\n",
    "# In this case `species_id` is the only column name in  both dataframes, so if we skipped `left_on`\n",
    "# And `right_on` arguments we would still get the same result\n",
    "\n",
    "# What's the size of the output data?\n",
    "merged_inner.shape\n",
    "merged_inner"
   ]
  },
  {
   "cell_type": "code",
   "execution_count": 7,
   "metadata": {},
   "outputs": [],
   "source": [
    "result = pd.concat([tanzanian_data, kenyan_data, ugandan_data], axis=1)"
   ]
  },
  {
   "cell_type": "code",
   "execution_count": 8,
   "metadata": {},
   "outputs": [
    {
     "data": {
      "text/html": [
       "<div>\n",
       "<style scoped>\n",
       "    .dataframe tbody tr th:only-of-type {\n",
       "        vertical-align: middle;\n",
       "    }\n",
       "\n",
       "    .dataframe tbody tr th {\n",
       "        vertical-align: top;\n",
       "    }\n",
       "\n",
       "    .dataframe thead th {\n",
       "        text-align: right;\n",
       "    }\n",
       "</style>\n",
       "<table border=\"1\" class=\"dataframe\">\n",
       "  <thead>\n",
       "    <tr style=\"text-align: right;\">\n",
       "      <th></th>\n",
       "      <th>Value</th>\n",
       "      <th>Value</th>\n",
       "      <th>Value</th>\n",
       "    </tr>\n",
       "    <tr>\n",
       "      <th>Date</th>\n",
       "      <th></th>\n",
       "      <th></th>\n",
       "      <th></th>\n",
       "    </tr>\n",
       "  </thead>\n",
       "  <tbody>\n",
       "    <tr>\n",
       "      <th>1950-12-31</th>\n",
       "      <td>1478838.75</td>\n",
       "      <td>136330.765625</td>\n",
       "      <td>2316104.5</td>\n",
       "    </tr>\n",
       "    <tr>\n",
       "      <th>1951-12-31</th>\n",
       "      <td>1634645.50</td>\n",
       "      <td>164822.718750</td>\n",
       "      <td>2153273.5</td>\n",
       "    </tr>\n",
       "    <tr>\n",
       "      <th>1952-12-31</th>\n",
       "      <td>1620628.75</td>\n",
       "      <td>142518.484375</td>\n",
       "      <td>2237281.0</td>\n",
       "    </tr>\n",
       "  </tbody>\n",
       "</table>\n",
       "</div>"
      ],
      "text/plain": [
       "                 Value          Value      Value\n",
       "Date                                            \n",
       "1950-12-31  1478838.75  136330.765625  2316104.5\n",
       "1951-12-31  1634645.50  164822.718750  2153273.5\n",
       "1952-12-31  1620628.75  142518.484375  2237281.0"
      ]
     },
     "execution_count": 8,
     "metadata": {},
     "output_type": "execute_result"
    }
   ],
   "source": [
    "result.head(3)"
   ]
  },
  {
   "cell_type": "code",
   "execution_count": 9,
   "metadata": {},
   "outputs": [],
   "source": [
    "#result = result['Value','Value','Value']\n",
    "#result.head()"
   ]
  },
  {
   "cell_type": "code",
   "execution_count": 10,
   "metadata": {},
   "outputs": [
    {
     "data": {
      "text/html": [
       "<div>\n",
       "<style scoped>\n",
       "    .dataframe tbody tr th:only-of-type {\n",
       "        vertical-align: middle;\n",
       "    }\n",
       "\n",
       "    .dataframe tbody tr th {\n",
       "        vertical-align: top;\n",
       "    }\n",
       "\n",
       "    .dataframe thead th {\n",
       "        text-align: right;\n",
       "    }\n",
       "</style>\n",
       "<table border=\"1\" class=\"dataframe\">\n",
       "  <thead>\n",
       "    <tr style=\"text-align: right;\">\n",
       "      <th></th>\n",
       "      <th>Tanzania</th>\n",
       "      <th>Kenya</th>\n",
       "      <th>Uganda</th>\n",
       "    </tr>\n",
       "    <tr>\n",
       "      <th>Date</th>\n",
       "      <th></th>\n",
       "      <th></th>\n",
       "      <th></th>\n",
       "    </tr>\n",
       "  </thead>\n",
       "  <tbody>\n",
       "    <tr>\n",
       "      <th>1950-12-31</th>\n",
       "      <td>1478838.75</td>\n",
       "      <td>136330.765625</td>\n",
       "      <td>2316104.5</td>\n",
       "    </tr>\n",
       "    <tr>\n",
       "      <th>1951-12-31</th>\n",
       "      <td>1634645.50</td>\n",
       "      <td>164822.718750</td>\n",
       "      <td>2153273.5</td>\n",
       "    </tr>\n",
       "    <tr>\n",
       "      <th>1952-12-31</th>\n",
       "      <td>1620628.75</td>\n",
       "      <td>142518.484375</td>\n",
       "      <td>2237281.0</td>\n",
       "    </tr>\n",
       "  </tbody>\n",
       "</table>\n",
       "</div>"
      ],
      "text/plain": [
       "              Tanzania          Kenya     Uganda\n",
       "Date                                            \n",
       "1950-12-31  1478838.75  136330.765625  2316104.5\n",
       "1951-12-31  1634645.50  164822.718750  2153273.5\n",
       "1952-12-31  1620628.75  142518.484375  2237281.0"
      ]
     },
     "execution_count": 10,
     "metadata": {},
     "output_type": "execute_result"
    }
   ],
   "source": [
    "result.columns = ['Tanzania', 'Kenya', 'Uganda']\n",
    "result.head(3)"
   ]
  },
  {
   "cell_type": "code",
   "execution_count": null,
   "metadata": {},
   "outputs": [],
   "source": []
  }
 ],
 "metadata": {
  "kernelspec": {
   "display_name": "Python 3",
   "language": "python",
   "name": "python3"
  },
  "language_info": {
   "codemirror_mode": {
    "name": "ipython",
    "version": 3
   },
   "file_extension": ".py",
   "mimetype": "text/x-python",
   "name": "python",
   "nbconvert_exporter": "python",
   "pygments_lexer": "ipython3",
   "version": "3.8.3"
  }
 },
 "nbformat": 4,
 "nbformat_minor": 4
}
